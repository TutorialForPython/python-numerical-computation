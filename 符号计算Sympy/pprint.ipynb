{
 "cells": [
  {
   "cell_type": "markdown",
   "metadata": {},
   "source": [
    "# 更加优雅的输出打印结果\n",
    "\n",
    "sympy支持unicode,可以使用`pprint()`函数输出优雅的数学公式,通过初始化时传入参数`use_latex=True`,使用latex作为引擎美化输出,我们以上一个例子中欧拉公式左边的泰勒展开作为例子"
   ]
  },
  {
   "cell_type": "code",
   "execution_count": 1,
   "metadata": {
    "collapsed": true
   },
   "outputs": [],
   "source": [
    "from sympy import init_printing\n",
    "init_printing(use_latex=True)\n",
    "from sympy import pprint"
   ]
  },
  {
   "cell_type": "code",
   "execution_count": 3,
   "metadata": {
    "collapsed": false
   },
   "outputs": [],
   "source": [
    "from sympy import exp,I#e的幂\n",
    "from sympy import series#泰勒展开函数\n",
    "from sympy import symbols\n",
    "x  = symbols(\"x\")\n",
    "tmp = series(exp(I*x), x, 0, 10)#公式,变量,"
   ]
  },
  {
   "cell_type": "code",
   "execution_count": 9,
   "metadata": {
    "collapsed": true
   },
   "outputs": [],
   "source": [
    "from sympy import re,im #获取实部虚部"
   ]
  },
  {
   "cell_type": "code",
   "execution_count": 10,
   "metadata": {
    "collapsed": false
   },
   "outputs": [
    {
     "data": {
      "image/png": "[encoded data removed]",
      "text/latex": [
       "$$1 + i x - \\frac{x^{2}}{2} - \\frac{i x^{3}}{6} + \\frac{x^{4}}{24} + \\frac{i x^{5}}{120} - \\frac{x^{6}}{720} - \\frac{i x^{7}}{5040} + \\frac{x^{8}}{40320} + \\frac{i x^{9}}{362880} + \\mathcal{O}\\left(x^{10}\\right)$$"
      ],
      "text/plain": [
       "           2      3    4      5     6      7      8        9          \n",
       "          x    ⅈ⋅x    x    ⅈ⋅x     x    ⅈ⋅x      x      ⅈ⋅x      ⎛ 10⎞\n",
       "1 + ⅈ⋅x - ── - ──── + ── + ──── - ─── - ──── + ───── + ────── + O⎝x  ⎠\n",
       "          2     6     24   120    720   5040   40320   362880         "
      ]
     },
     "execution_count": 10,
     "metadata": {},
     "output_type": "execute_result"
    }
   ],
   "source": [
    "tmp"
   ]
  },
  {
   "cell_type": "code",
   "execution_count": 11,
   "metadata": {
    "collapsed": false
   },
   "outputs": [
    {
     "data": {
      "image/png": "[encoded data removed]",
      "text/latex": [
       "$$- \\frac{\\left(\\Re{x}\\right)^{8} \\Im{x}}{40320} + \\frac{\\left(\\Re{x}\\right)^{8}}{40320} + \\frac{\\left(\\Re{x}\\right)^{6} \\left(\\Im{x}\\right)^{3}}{4320} - \\frac{\\left(\\Re{x}\\right)^{6} \\left(\\Im{x}\\right)^{2}}{1440} + \\frac{\\left(\\Re{x}\\right)^{6} \\Im{x}}{720} - \\frac{\\left(\\Re{x}\\right)^{6}}{720} - \\frac{\\left(\\Re{x}\\right)^{4} \\left(\\Im{x}\\right)^{5}}{2880} + \\frac{\\left(\\Re{x}\\right)^{4} \\left(\\Im{x}\\right)^{4}}{576} - \\frac{\\left(\\Re{x}\\right)^{4} \\left(\\Im{x}\\right)^{3}}{144} + \\frac{\\left(\\Re{x}\\right)^{4} \\left(\\Im{x}\\right)^{2}}{48} - \\frac{\\left(\\Re{x}\\right)^{4} \\Im{x}}{24} + \\frac{\\left(\\Re{x}\\right)^{4}}{24} + \\frac{\\left(\\Re{x}\\right)^{2} \\left(\\Im{x}\\right)^{7}}{10080} - \\frac{\\left(\\Re{x}\\right)^{2} \\left(\\Im{x}\\right)^{6}}{1440} + \\frac{\\left(\\Re{x}\\right)^{2} \\left(\\Im{x}\\right)^{5}}{240} - \\frac{\\left(\\Re{x}\\right)^{2} \\left(\\Im{x}\\right)^{4}}{48} + \\frac{\\left(\\Re{x}\\right)^{2} \\left(\\Im{x}\\right)^{3}}{12} - \\frac{\\left(\\Re{x}\\right)^{2} \\left(\\Im{x}\\right)^{2}}{4} + \\frac{\\left(\\Re{x}\\right)^{2} \\Im{x}}{2} - \\frac{\\left(\\Re{x}\\right)^{2}}{2} + \\Re{\\mathcal{O}\\left(x^{10}\\right)} - \\frac{\\left(\\Im{x}\\right)^{9}}{362880} + \\frac{\\left(\\Im{x}\\right)^{8}}{40320} - \\frac{\\left(\\Im{x}\\right)^{7}}{5040} + \\frac{\\left(\\Im{x}\\right)^{6}}{720} - \\frac{\\left(\\Im{x}\\right)^{5}}{120} + \\frac{\\left(\\Im{x}\\right)^{4}}{24} - \\frac{\\left(\\Im{x}\\right)^{3}}{6} + \\frac{\\left(\\Im{x}\\right)^{2}}{2} - \\Im{x} + 1$$"
      ],
      "text/plain": [
       "    8              8        6      3        6      2        6              6  \n",
       "  re (x)⋅im(x)   re (x)   re (x)⋅im (x)   re (x)⋅im (x)   re (x)⋅im(x)   re (x\n",
       "- ──────────── + ────── + ───────────── - ───────────── + ──────────── - ─────\n",
       "     40320       40320         4320            1440           720         720 \n",
       "\n",
       "      4      5        4      4        4      3        4      2        4       \n",
       ")   re (x)⋅im (x)   re (x)⋅im (x)   re (x)⋅im (x)   re (x)⋅im (x)   re (x)⋅im(\n",
       "─ - ───────────── + ───────────── - ───────────── + ───────────── - ──────────\n",
       "         2880            576             144              48             24   \n",
       "\n",
       "       4        2      7        2      6        2      5        2      4      \n",
       "x)   re (x)   re (x)⋅im (x)   re (x)⋅im (x)   re (x)⋅im (x)   re (x)⋅im (x)   \n",
       "── + ────── + ───────────── - ───────────── + ───────────── - ───────────── + \n",
       "       24         10080            1440            240              48        \n",
       "\n",
       "  2      3        2      2        2              2                     9      \n",
       "re (x)⋅im (x)   re (x)⋅im (x)   re (x)⋅im(x)   re (x)     ⎛ ⎛ 10⎞⎞   im (x)   \n",
       "───────────── - ───────────── + ──────────── - ────── + re⎝O⎝x  ⎠⎠ - ────── + \n",
       "      12              4              2           2                   362880   \n",
       "\n",
       "  8        7        6        5        4        3        2               \n",
       "im (x)   im (x)   im (x)   im (x)   im (x)   im (x)   im (x)            \n",
       "────── - ────── + ────── - ────── + ────── - ────── + ────── - im(x) + 1\n",
       "40320     5040     720      120       24       6        2               "
      ]
     },
     "execution_count": 11,
     "metadata": {},
     "output_type": "execute_result"
    }
   ],
   "source": [
    "re(tmp)"
   ]
  },
  {
   "cell_type": "code",
   "execution_count": 13,
   "metadata": {
    "collapsed": false
   },
   "outputs": [
    {
     "data": {
      "image/png": "[encoded data removed]",
      "text/latex": [
       "$$\\frac{\\left(\\Re{x}\\right)^{9}}{362880} - \\frac{\\left(\\Re{x}\\right)^{7} \\left(\\Im{x}\\right)^{2}}{10080} + \\frac{\\left(\\Re{x}\\right)^{7} \\Im{x}}{5040} - \\frac{\\left(\\Re{x}\\right)^{7}}{5040} + \\frac{\\left(\\Re{x}\\right)^{5} \\left(\\Im{x}\\right)^{4}}{2880} - \\frac{\\left(\\Re{x}\\right)^{5} \\left(\\Im{x}\\right)^{3}}{720} + \\frac{\\left(\\Re{x}\\right)^{5} \\left(\\Im{x}\\right)^{2}}{240} - \\frac{\\left(\\Re{x}\\right)^{5} \\Im{x}}{120} + \\frac{\\left(\\Re{x}\\right)^{5}}{120} - \\frac{\\left(\\Re{x}\\right)^{3} \\left(\\Im{x}\\right)^{6}}{4320} + \\frac{\\left(\\Re{x}\\right)^{3} \\left(\\Im{x}\\right)^{5}}{720} - \\frac{\\left(\\Re{x}\\right)^{3} \\left(\\Im{x}\\right)^{4}}{144} + \\frac{\\left(\\Re{x}\\right)^{3} \\left(\\Im{x}\\right)^{3}}{36} - \\frac{\\left(\\Re{x}\\right)^{3} \\left(\\Im{x}\\right)^{2}}{12} + \\frac{\\left(\\Re{x}\\right)^{3} \\Im{x}}{6} - \\frac{\\left(\\Re{x}\\right)^{3}}{6} + \\frac{\\Re{x} \\left(\\Im{x}\\right)^{8}}{40320} - \\frac{\\Re{x} \\left(\\Im{x}\\right)^{7}}{5040} + \\frac{\\Re{x} \\left(\\Im{x}\\right)^{6}}{720} - \\frac{\\Re{x} \\left(\\Im{x}\\right)^{5}}{120} + \\frac{\\Re{x} \\left(\\Im{x}\\right)^{4}}{24} - \\frac{\\Re{x} \\left(\\Im{x}\\right)^{3}}{6} + \\frac{\\Re{x} \\left(\\Im{x}\\right)^{2}}{2} - \\Re{x} \\Im{x} + \\Re{x} + \\Im{\\mathcal{O}\\left(x^{10}\\right)}$$"
      ],
      "text/plain": [
       "  9        7      2        7              7        5      4        5      3   \n",
       "re (x)   re (x)⋅im (x)   re (x)⋅im(x)   re (x)   re (x)⋅im (x)   re (x)⋅im (x)\n",
       "────── - ───────────── + ──────────── - ────── + ───────────── - ─────────────\n",
       "362880       10080           5040        5040         2880            720     \n",
       "\n",
       "     5      2        5              5        3      6        3      5        3\n",
       "   re (x)⋅im (x)   re (x)⋅im(x)   re (x)   re (x)⋅im (x)   re (x)⋅im (x)   re \n",
       " + ───────────── - ──────────── + ────── - ───────────── + ───────────── - ───\n",
       "        240            120         120          4320            720           \n",
       "\n",
       "      4        3      3        3      2        3              3              8\n",
       "(x)⋅im (x)   re (x)⋅im (x)   re (x)⋅im (x)   re (x)⋅im(x)   re (x)   re(x)⋅im \n",
       "────────── + ───────────── - ───────────── + ──────────── - ────── + ─────────\n",
       "  144              36              12             6           6         40320 \n",
       "\n",
       "              7              6              5              4              3   \n",
       "(x)   re(x)⋅im (x)   re(x)⋅im (x)   re(x)⋅im (x)   re(x)⋅im (x)   re(x)⋅im (x)\n",
       "─── - ──────────── + ──────────── - ──────────── + ──────────── - ────────────\n",
       "          5040           720            120             24             6      \n",
       "\n",
       "           2                                      \n",
       "   re(x)⋅im (x)                           ⎛ ⎛ 10⎞⎞\n",
       " + ──────────── - re(x)⋅im(x) + re(x) + im⎝O⎝x  ⎠⎠\n",
       "        2                                         "
      ]
     },
     "execution_count": 13,
     "metadata": {},
     "output_type": "execute_result"
    }
   ],
   "source": [
    "im(tmp)"
   ]
  },
  {
   "cell_type": "code",
   "execution_count": 5,
   "metadata": {
    "collapsed": false
   },
   "outputs": [
    {
     "name": "stdout",
     "output_type": "stream",
     "text": [
      "           2      3    4      5     6      7      8        9          \n",
      "          x    ⅈ⋅x    x    ⅈ⋅x     x    ⅈ⋅x      x      ⅈ⋅x      ⎛ 10⎞\n",
      "1 + ⅈ⋅x - ── - ──── + ── + ──── - ─── - ──── + ───── + ────── + O⎝x  ⎠\n",
      "          2     6     24   120    720   5040   40320   362880         \n"
     ]
    }
   ],
   "source": [
    "pprint(tmp)"
   ]
  },
  {
   "cell_type": "markdown",
   "metadata": {},
   "source": [
    "在ipython中也可以使用\n",
    "\n",
    "```python\n",
    "from IPython.display import display#或者用ipython的展示函数\n",
    "```\n",
    "\n",
    "来使用display函数展示公式"
   ]
  },
  {
   "cell_type": "code",
   "execution_count": 6,
   "metadata": {
    "collapsed": true
   },
   "outputs": [],
   "source": [
    "from IPython.display import display"
   ]
  },
  {
   "cell_type": "code",
   "execution_count": 7,
   "metadata": {
    "collapsed": false
   },
   "outputs": [
    {
     "data": {
      "image/png": "[encoded data removed]",
      "text/latex": [
       "$$1 + i x - \\frac{x^{2}}{2} - \\frac{i x^{3}}{6} + \\frac{x^{4}}{24} + \\frac{i x^{5}}{120} - \\frac{x^{6}}{720} - \\frac{i x^{7}}{5040} + \\frac{x^{8}}{40320} + \\frac{i x^{9}}{362880} + \\mathcal{O}\\left(x^{10}\\right)$$"
      ],
      "text/plain": [
       "           2      3    4      5     6      7      8        9          \n",
       "          x    ⅈ⋅x    x    ⅈ⋅x     x    ⅈ⋅x      x      ⅈ⋅x      ⎛ 10⎞\n",
       "1 + ⅈ⋅x - ── - ──── + ── + ──── - ─── - ──── + ───── + ────── + O⎝x  ⎠\n",
       "          2     6     24   120    720   5040   40320   362880         "
      ]
     },
     "metadata": {},
     "output_type": "display_data"
    }
   ],
   "source": [
    "display(tmp,latex=True)"
   ]
  }
 ],
 "metadata": {
  "kernelspec": {
   "display_name": "Python 2",
   "language": "python",
   "name": "python2"
  },
  "language_info": {
   "codemirror_mode": {
    "name": "ipython",
    "version": 2
   },
   "file_extension": ".py",
   "mimetype": "text/x-python",
   "name": "python",
   "nbconvert_exporter": "python",
   "pygments_lexer": "ipython2",
   "version": "2.7.12"
  }
 },
 "nbformat": 4,
 "nbformat_minor": 0
}
